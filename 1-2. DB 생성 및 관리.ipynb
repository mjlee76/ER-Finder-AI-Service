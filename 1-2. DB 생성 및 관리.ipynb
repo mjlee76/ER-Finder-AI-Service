{
 "cells": [
  {
   "cell_type": "markdown",
   "metadata": {
    "id": "cVB9pY-v8uv5"
   },
   "source": [
    "# **DB 생성 및 관리**"
   ]
  },
  {
   "cell_type": "markdown",
   "metadata": {
    "id": "qTa9LlwZD_aa"
   },
   "source": [
    "## **1.환경준비**"
   ]
  },
  {
   "cell_type": "code",
   "execution_count": 1,
   "metadata": {
    "id": "GVvCef6A8uv6"
   },
   "outputs": [],
   "source": [
    "import pandas as pd\n",
    "import os\n",
    "import sqlite3\n",
    "\n",
    "import warnings\n",
    "warnings.filterwarnings(\"ignore\", category=DeprecationWarning)"
   ]
  },
  {
   "cell_type": "markdown",
   "metadata": {
    "id": "mnk1VvHm2Ka0"
   },
   "source": [
    "## **2.DB 작업**"
   ]
  },
  {
   "cell_type": "markdown",
   "metadata": {
    "id": "CiKsfjcrKx6Q"
   },
   "source": [
    "### (1) DB 생성 및 연결\n",
    "\n",
    "* 데이터베이스 연결\n",
    "    * 폴더는 미리 생성\n",
    "    * 해당 파일이 없으면 새로 생성, 있으면 연결"
   ]
  },
  {
   "cell_type": "code",
   "execution_count": 2,
   "metadata": {
    "id": "Xj5yt-Ufi1jU"
   },
   "outputs": [],
   "source": [
    "path = 'testdb.db'\n",
    "conn = sqlite3.connect(path)"
   ]
  },
  {
   "cell_type": "markdown",
   "metadata": {
    "id": "QVjd2weqKx6R"
   },
   "source": [
    "### (2) DB 작업 절차\n",
    "\n",
    "* 1) 커서 활용 : 대부분의 SQL 작업 가능\n",
    "    * ① 연결\n",
    "    * ② 커서 선언\n",
    "    * ③ 작업 : sql\n",
    "    * ④ 커밋(수정작업 저장)\n",
    "    * ⑤ 연결종료\n",
    "\n",
    "* 2) pandas 함수 활용 : 주로 insert, update, delete, select, create table & insert\n",
    "    * ① 연결\n",
    "    * ② 작업 : pandas 함수 이용\n",
    "    * ③ 연결종료"
   ]
  },
  {
   "cell_type": "markdown",
   "metadata": {
    "id": "BU2UcVmNKx6R"
   },
   "source": [
    "#### 1) 테이블 생성\n",
    "* 테이블 생성 작업\n",
    "    * DB Browser for SQLite 에서 직접 수행\n",
    "    * 파이썬에서 **연결**하고, **커서**를 생성해서 작업"
   ]
  },
  {
   "cell_type": "code",
   "execution_count": 3,
   "metadata": {
    "id": "sJc6Ey9nKx6R"
   },
   "outputs": [],
   "source": [
    "# 커서 객체 생성\n",
    "cursor = conn.cursor()\n",
    "\n",
    "# test 테이블 생성\n",
    "cursor.execute('''\n",
    "CREATE TABLE IF NOT EXISTS test (\n",
    "    id INTEGER PRIMARY KEY,\n",
    "    name TEXT NOT NULL,\n",
    "    age INTEGER NOT NULL\n",
    ")\n",
    "''')\n",
    "\n",
    "# 변경사항 커밋 (저장)\n",
    "conn.commit()\n",
    "\n",
    "# 연결 종료\n",
    "conn.close()"
   ]
  },
  {
   "cell_type": "markdown",
   "metadata": {
    "id": "vmCv_f9yVWCb"
   },
   "source": []
  },
  {
   "cell_type": "markdown",
   "metadata": {
    "id": "Nw7N3UJ4Kx6R"
   },
   "source": [
    "#### 2) insert\n",
    "* 데이터프레임에서 직접 DB로 보내기 : df.to_sql"
   ]
  },
  {
   "cell_type": "code",
   "execution_count": 4,
   "metadata": {
    "id": "jVnqHmvmKx6R"
   },
   "outputs": [],
   "source": [
    "# ① 연결\n",
    "conn = sqlite3.connect(path)\n",
    "\n",
    "# ② 작업 : to_sql\n",
    "data = pd.DataFrame({'name': ['Alice', 'Bob', 'Charlie', 'David'], 'age': [30, 25, 35, 40]})\n",
    "data.to_sql('test', conn, if_exists='append', index=False) # test 테이블이 있으면 insert, 없으면 생성\n",
    "\n",
    "# ③ 연결 종료\n",
    "conn.close()"
   ]
  },
  {
   "cell_type": "markdown",
   "metadata": {
    "id": "MskRubvYKx6S"
   },
   "source": [
    "#### 3) Select"
   ]
  },
  {
   "cell_type": "code",
   "execution_count": 5,
   "metadata": {
    "id": "3jkkcu6SKx6S"
   },
   "outputs": [
    {
     "data": {
      "text/html": [
       "<div>\n",
       "<style scoped>\n",
       "    .dataframe tbody tr th:only-of-type {\n",
       "        vertical-align: middle;\n",
       "    }\n",
       "\n",
       "    .dataframe tbody tr th {\n",
       "        vertical-align: top;\n",
       "    }\n",
       "\n",
       "    .dataframe thead th {\n",
       "        text-align: right;\n",
       "    }\n",
       "</style>\n",
       "<table border=\"1\" class=\"dataframe\">\n",
       "  <thead>\n",
       "    <tr style=\"text-align: right;\">\n",
       "      <th></th>\n",
       "      <th>id</th>\n",
       "      <th>name</th>\n",
       "      <th>age</th>\n",
       "    </tr>\n",
       "  </thead>\n",
       "  <tbody>\n",
       "    <tr>\n",
       "      <th>0</th>\n",
       "      <td>1</td>\n",
       "      <td>Alice</td>\n",
       "      <td>30</td>\n",
       "    </tr>\n",
       "    <tr>\n",
       "      <th>1</th>\n",
       "      <td>2</td>\n",
       "      <td>Bob</td>\n",
       "      <td>25</td>\n",
       "    </tr>\n",
       "    <tr>\n",
       "      <th>2</th>\n",
       "      <td>3</td>\n",
       "      <td>Charlie</td>\n",
       "      <td>35</td>\n",
       "    </tr>\n",
       "    <tr>\n",
       "      <th>3</th>\n",
       "      <td>4</td>\n",
       "      <td>David</td>\n",
       "      <td>40</td>\n",
       "    </tr>\n",
       "  </tbody>\n",
       "</table>\n",
       "</div>"
      ],
      "text/plain": [
       "   id     name  age\n",
       "0   1    Alice   30\n",
       "1   2      Bob   25\n",
       "2   3  Charlie   35\n",
       "3   4    David   40"
      ]
     },
     "metadata": {},
     "output_type": "display_data"
    }
   ],
   "source": [
    "# ① 연결\n",
    "conn = sqlite3.connect(path)\n",
    "\n",
    "# ② 작업 : select\n",
    "df = pd.read_sql('SELECT * FROM test', conn)\n",
    "display(df)\n",
    "\n",
    "# ③ 연결 종료\n",
    "conn.close()"
   ]
  },
  {
   "cell_type": "markdown",
   "metadata": {
    "id": "AIKf8LWNKx6S"
   },
   "source": [
    "#### 4) Drop"
   ]
  },
  {
   "cell_type": "markdown",
   "metadata": {
    "id": "OmdftvsxKx6S"
   },
   "source": [
    "* 커서로만 작업 가능"
   ]
  },
  {
   "cell_type": "code",
   "execution_count": null,
   "metadata": {
    "id": "5T8sI0glKx6T"
   },
   "outputs": [],
   "source": [
    "# ① 연결\n",
    "conn = sqlite3.connect(path)\n",
    "\n",
    "# ② 커서 선언\n",
    "cursor = conn.cursor()\n",
    "\n",
    "# ③ 작업 : 테이블 삭제\n",
    "cursor.execute('DROP TABLE IF EXISTS test')\n",
    "\n",
    "# ④ 커밋(수정작업 저장)\n",
    "conn.commit()\n",
    "\n",
    "# ⑤ 연결종료\n",
    "conn.close()"
   ]
  },
  {
   "cell_type": "markdown",
   "metadata": {
    "id": "8a6vtE7BKx6T"
   },
   "source": [
    "## **3.관리용 DB**\n"
   ]
  },
  {
   "cell_type": "markdown",
   "metadata": {
    "id": "4sW9iMcCWj-y"
   },
   "source": [
    "### (1) DB 생성\n",
    "\n",
    "* DB를 아래 경로와 이름으로 생성\n",
    "    * project7/db/em.db"
   ]
  },
  {
   "cell_type": "code",
   "execution_count": 5,
   "metadata": {
    "id": "zpuI3doDW3MO"
   },
   "outputs": [],
   "source": [
    "# 데이터베이스 경로 설정\n",
    "db_dir = \"db\"  # 폴더 경로\n",
    "db_name = \"em.db\"       # 데이터베이스 파일 이름\n",
    "db_path = os.path.join(db_dir, db_name)\n",
    "\n",
    "conn = sqlite3.connect(db_path)"
   ]
  },
  {
   "cell_type": "markdown",
   "metadata": {
    "id": "esNjCTM4W4Qb"
   },
   "source": [
    "### (2) log 테이블 생성\n",
    "* 칼럼 구성\n",
    "\n",
    "|column name | descrition | data type | comment |\n",
    "|----|----|----|----|\n",
    "|datetime | 요청일시 | text | yyyy-mm-dd hh:mi:ss |\n",
    "|input_text | 입력text | text |  |\n",
    "|input_latitude | 입력 위도 | real |  |\n",
    "|input_longitude | 입력 경도 | real |  |\n",
    "|em_class | 응급 등급(1~5) | integer |  |\n",
    "|hospital1 | 추천병원명 | text |  |\n",
    "|addr1 | 추천병원주소 | text |  |\n",
    "|tel1 | 추천병원전화번호 | text |  |\n",
    "|hospital2 | 추천병원명2 | text |  |\n",
    "|addr2 | 추천병원주소2 | text |  |\n",
    "|tel2 | 추천병원전화번호2 | text |  |\n",
    "|hospital3 | 추천병원명3 | text |  |\n",
    "|addr3 | 추천병원주소3 | text |  |\n",
    "|tel3 | 추천병원전화번호3 | text |  |"
   ]
  },
  {
   "cell_type": "code",
   "execution_count": 6,
   "metadata": {
    "id": "e41vGW_FZUsq"
   },
   "outputs": [],
   "source": [
    "# 커서 객체 생성\n",
    "cursor = conn.cursor()\n",
    "\n",
    "# log 테이블 생성\n",
    "cursor.execute('''\n",
    "CREATE TABLE IF NOT EXISTS log (\n",
    "    datetime TEXT,                -- 요청일시 (yyyy-mm-dd hh:mi:ss)\n",
    "    input_text TEXT,              -- 입력 텍스트\n",
    "    input_latitude REAL,          -- 입력 위도\n",
    "    input_longitude REAL,         -- 입력 경도\n",
    "    em_class INTEGER,             -- 응급 등급 (1~5)\n",
    "    hospital1 TEXT,               -- 추천 병원명1\n",
    "    addr1 TEXT,                   -- 추천 병원주소1\n",
    "    tel1 TEXT,                    -- 추천 병원전화번호1\n",
    "    hospital2 TEXT,               -- 추천 병원명2\n",
    "    addr2 TEXT,                   -- 추천 병원주소2\n",
    "    tel2 TEXT,                    -- 추천 병원전화번호2\n",
    "    hospital3 TEXT,               -- 추천 병원명3\n",
    "    addr3 TEXT,                   -- 추천 병원주소3\n",
    "    tel3 TEXT                     -- 추천 병원전화번호3\n",
    ")\n",
    "''')\n",
    "\n",
    "# 변경사항 커밋 (저장)\n",
    "conn.commit()\n",
    "\n",
    "# 연결 종료\n",
    "conn.close()"
   ]
  },
  {
   "cell_type": "code",
   "execution_count": 9,
   "metadata": {},
   "outputs": [
    {
     "data": {
      "text/html": [
       "<div>\n",
       "<style scoped>\n",
       "    .dataframe tbody tr th:only-of-type {\n",
       "        vertical-align: middle;\n",
       "    }\n",
       "\n",
       "    .dataframe tbody tr th {\n",
       "        vertical-align: top;\n",
       "    }\n",
       "\n",
       "    .dataframe thead th {\n",
       "        text-align: right;\n",
       "    }\n",
       "</style>\n",
       "<table border=\"1\" class=\"dataframe\">\n",
       "  <thead>\n",
       "    <tr style=\"text-align: right;\">\n",
       "      <th></th>\n",
       "      <th>datetime</th>\n",
       "      <th>input_text</th>\n",
       "      <th>input_latitude</th>\n",
       "      <th>input_longitude</th>\n",
       "      <th>em_class</th>\n",
       "      <th>hospital1</th>\n",
       "      <th>addr1</th>\n",
       "      <th>tel1</th>\n",
       "      <th>hospital2</th>\n",
       "      <th>addr2</th>\n",
       "      <th>tel2</th>\n",
       "      <th>hospital3</th>\n",
       "      <th>addr3</th>\n",
       "      <th>tel3</th>\n",
       "    </tr>\n",
       "  </thead>\n",
       "  <tbody>\n",
       "  </tbody>\n",
       "</table>\n",
       "</div>"
      ],
      "text/plain": [
       "Empty DataFrame\n",
       "Columns: [datetime, input_text, input_latitude, input_longitude, em_class, hospital1, addr1, tel1, hospital2, addr2, tel2, hospital3, addr3, tel3]\n",
       "Index: []"
      ]
     },
     "metadata": {},
     "output_type": "display_data"
    }
   ],
   "source": [
    "# df 확인\n",
    "\n",
    "# ① 연결\n",
    "conn = sqlite3.connect(db_path)\n",
    "\n",
    "# ② 작업 : select\n",
    "df = pd.read_sql('SELECT * FROM log', conn)\n",
    "display(df)\n",
    "\n",
    "# ③ 연결 종료\n",
    "conn.close()"
   ]
  },
  {
   "cell_type": "markdown",
   "metadata": {
    "id": "3SLXNGgvbFWG"
   },
   "source": [
    "### (3) log 테이블 입력 함수"
   ]
  },
  {
   "cell_type": "markdown",
   "metadata": {
    "id": "T1UJT7xFZXPL"
   },
   "source": [
    "* 현재 일시 저장하기 예제\n",
    "            # 현재 연월일 시분초 뽑기\n",
    "            from datetime import datetime\n",
    "            dt = datetime.now()\n",
    "            dt = dt.strftime('%Y-%m-%d %H:%M:%S')\n"
   ]
  },
  {
   "cell_type": "code",
   "execution_count": 8,
   "metadata": {
    "id": "FtqHrdYTcj33"
   },
   "outputs": [],
   "source": [
    "from datetime import datetime\n",
    "\n",
    "def insert_log(input_text, input_latitude, input_longitude, em_class,\n",
    "               hospital1, addr1, tel1, hospital2, addr2, tel2, hospital3, addr3, tel3):\n",
    "\n",
    "    dt = datetime.now().strftime('%Y-%m-%d %H:%M:%S')\n",
    "\n",
    "    db_path = \"project7/db/em.db\"\n",
    "    conn = sqlite3.connect(db_path)\n",
    "    cursor = conn.cursor()\n",
    "\n",
    "    cursor.execute('''\n",
    "        INSERT INTO log (\n",
    "            datetime, input_text, input_latitude, input_longitude, em_class,\n",
    "            hospital1, addr1, tel1, hospital2, addr2, tel2, hospital3, addr3, tel3\n",
    "        ) VALUES (?, ?, ?, ?, ?, ?, ?, ?, ?, ?, ?, ?, ?, ?, ?)\n",
    "    ''', (dt, input_text, input_latitude, input_longitude, em_class,\n",
    "          hospital1, addr1, tel1, hospital2, addr2, tel2, hospital3, addr3, tel3))\n",
    "\n",
    "    conn.commit()\n",
    "    conn.close()\n",
    "\n",
    "    print(\"데이터가 성공적으로 입력되었습니다.\")"
   ]
  },
  {
   "cell_type": "code",
   "execution_count": null,
   "metadata": {},
   "outputs": [],
   "source": [
    "# 1. 준비 작업 ---------------------------------------------\n",
    "openai.api_key = em.load_file(path + 'api_key.txt')\n",
    "os.environ['OPENAI_API_KEY'] = openai.api_key\n",
    "\n",
    "map_key = em.load_file(path + 'map_key.txt')\n",
    "map_key = json.loads(map_key)\n",
    "c_id, c_key = 'hqev5yhpp0', '0hKV6LdcBYambAIlHkVtAMuxCuRD6ypCVQrSGjne'\n",
    "\n",
    "emergency = pd.read_csv(path + '응급실 정보.csv')\n",
    "\n",
    "# 모델, 토크나이저 로드\n",
    "save_directory = path + \"fine_tuned_bert\"\n",
    "model = AutoModelForSequenceClassification.from_pretrained(save_directory)\n",
    "tokenizer = AutoTokenizer.from_pretrained(save_directory)\n",
    "\n",
    "# 2. 데이터 처리(pipeline) ---------------------------------\n",
    "# input\n",
    "audio_path = path + 'audio/'\n",
    "filename = 'audio1.mp3'\n",
    "\n",
    "# 처리: 음성 -> 텍스트 -> 요약\n",
    "result = em.audio2text(audio_path, filename)\n",
    "result = em.text2summary(result)\n",
    "\n",
    "# 응급 등급 예측\n",
    "predicted_class, _ = em.predict(result, model, tokenizer)\n",
    "\n",
    "# 테스트 input --------------------\n",
    "predicted_class = 2  # 테스트용\n",
    "start_lat, start_lng = 35.548238, 129.307011\n",
    "# ---------------------------------\n",
    "\n",
    "# 병원 추천 및 결과 처리\n",
    "emergency_list = emergency.to_dict('records')\n",
    "if predicted_class <= 2:\n",
    "    hospital_results = em.recommend_hospital3(emergency_list, start_lat, start_lng, c_id, c_key)\n",
    "\n",
    "    # 결과를 DB에 삽입\n",
    "    insert_hospital_data(\n",
    "        input_text=result,\n",
    "        input_latitude=start_lat,\n",
    "        input_longitude=start_lng,\n",
    "        em_class=predicted_class,\n",
    "        hospitals=hospital_results\n",
    "    )\n",
    "    print(\"병원 추천 결과가 데이터베이스에 저장되었습니다.\")\n",
    "\n",
    "else:\n",
    "    print('개인 건강관리')"
   ]
  }
 ],
 "metadata": {
  "colab": {
   "provenance": [],
   "toc_visible": true
  },
  "kernelspec": {
   "display_name": "em",
   "language": "python",
   "name": "python3"
  },
  "language_info": {
   "codemirror_mode": {
    "name": "ipython",
    "version": 3
   },
   "file_extension": ".py",
   "mimetype": "text/x-python",
   "name": "python",
   "nbconvert_exporter": "python",
   "pygments_lexer": "ipython3",
   "version": "3.12.8"
  }
 },
 "nbformat": 4,
 "nbformat_minor": 0
}
